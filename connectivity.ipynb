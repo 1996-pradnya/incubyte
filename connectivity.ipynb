{
 "cells": [
  {
   "cell_type": "code",
   "execution_count": 1,
   "id": "ea02fcd6",
   "metadata": {},
   "outputs": [
    {
     "name": "stdout",
     "output_type": "stream",
     "text": [
      "Requirement already satisfied: sqlalchemy in c:\\programdata\\anaconda3\\lib\\site-packages (1.4.7)\n",
      "Requirement already satisfied: greenlet!=0.4.17 in c:\\programdata\\anaconda3\\lib\\site-packages (from sqlalchemy) (1.0.0)\n",
      "Note: you may need to restart the kernel to use updated packages.\n"
     ]
    }
   ],
   "source": [
    "pip install sqlalchemy"
   ]
  },
  {
   "cell_type": "code",
   "execution_count": 3,
   "id": "3ed99a1e",
   "metadata": {},
   "outputs": [
    {
     "name": "stdout",
     "output_type": "stream",
     "text": [
      "Requirement already satisfied: pypyodbc in c:\\programdata\\anaconda3\\lib\\site-packages (1.3.2)\n",
      "Requirement already satisfied: setuptools in c:\\programdata\\anaconda3\\lib\\site-packages (from pypyodbc) (52.0.0.post20210125)\n",
      "Note: you may need to restart the kernel to use updated packages.\n"
     ]
    }
   ],
   "source": [
    "pip install pypyodbc"
   ]
  },
  {
   "cell_type": "code",
   "execution_count": 4,
   "id": "350d169f",
   "metadata": {},
   "outputs": [
    {
     "name": "stdout",
     "output_type": "stream",
     "text": [
      "<pypyodbc.Connection object at 0x0000020110B2B100>\n"
     ]
    }
   ],
   "source": [
    "import pypyodbc as podbc\n",
    "conn2 = podbc.connect(\"DRIVER={SQL Server};Server=localhost;Database=incubyte\")\n",
    "print(conn2) "
   ]
  },
  {
   "cell_type": "code",
   "execution_count": 6,
   "id": "b2d4d6e5",
   "metadata": {},
   "outputs": [],
   "source": [
    "import pandas as pd"
   ]
  },
  {
   "cell_type": "code",
   "execution_count": 7,
   "id": "f9b65150",
   "metadata": {},
   "outputs": [
    {
     "name": "stdout",
     "output_type": "stream",
     "text": [
      "  customername customerid customeropendate lastconsulteddate vaccinationtype  \\\n",
      "0         Alex          4       2021-10-16        2021-10-16           MVD     \n",
      "1      Avinash          6       2021-10-16        2021-10-16           MVD     \n",
      "2        Jacob          5       2021-10-16        2021-10-16           MVD     \n",
      "3         John          2       2021-10-16        2021-10-16           MVD     \n",
      "4         Matt          6       2021-10-16        2021-10-16           MVD     \n",
      "5      Pradnya          1       2021-10-16        2021-10-16           MVD     \n",
      "6        Robin          3       2021-10-16        2021-10-16           MVD     \n",
      "\n",
      "                                     doctorconsulted  state country  postcode  \\\n",
      "0  Pradnya                                       ...  BOS     NYC        1004   \n",
      "1  Pradnya                                       ...  MH      IND       20800   \n",
      "2  Pradnya                                       ...  VIC     AU        20005   \n",
      "3  Avinash                                       ...  TN      IND      600018   \n",
      "4  Pradnya                                       ...  Goa     Panji     20800   \n",
      "5  Avinash                                       ...  SA      USA       10001   \n",
      "6  Avinash                                       ...  WAS     PHIL     600045   \n",
      "\n",
      "  dateofbirth activecustomer  \n",
      "0  2021-10-16              A  \n",
      "1  2021-10-16              A  \n",
      "2  2021-10-16              A  \n",
      "3  2021-10-16              A  \n",
      "4  2021-10-16              A  \n",
      "5  2021-10-16              A  \n",
      "6  2021-10-16              A  \n"
     ]
    }
   ],
   "source": [
    "SQL_Query = pd.read_sql_query('''SELECT * FROM [dbo].[customer]''',conn2)\n",
    "print(SQL_Query)"
   ]
  },
  {
   "cell_type": "code",
   "execution_count": null,
   "id": "ebaef0ce",
   "metadata": {},
   "outputs": [],
   "source": [
    "pd.read_sql_query(INSERT INTO [dbo].[customer]\n",
    "           ([CustomerName]\n",
    "           ,[CustomerID]\n",
    "           ,[CustomerOpenDate]\n",
    "           ,[LastConsultedDate]\n",
    "           ,[VaccinationType]\n",
    "           ,[DoctorConsulted]\n",
    "           ,[State]\n",
    "           ,[Country]\n",
    "           ,[PostCode]\n",
    "           ,[DateofBirth]\n",
    "           ,[ActiveCustomer])\n",
    "     VALUES\n",
    "           ('chetan'\n",
    "           ,7\n",
    "           ,GETDATE()\n",
    "           ,GETDATE()\n",
    "           ,'MVD'\n",
    "           ,'Pradnya'\n",
    "           ,'MH'\n",
    "           ,'IN'\n",
    "           ,20809\n",
    "           ,GETDATE()\n",
    "           ,'A')\n"
   ]
  }
 ],
 "metadata": {
  "kernelspec": {
   "display_name": "Python 3",
   "language": "python",
   "name": "python3"
  },
  "language_info": {
   "codemirror_mode": {
    "name": "ipython",
    "version": 3
   },
   "file_extension": ".py",
   "mimetype": "text/x-python",
   "name": "python",
   "nbconvert_exporter": "python",
   "pygments_lexer": "ipython3",
   "version": "3.8.8"
  }
 },
 "nbformat": 4,
 "nbformat_minor": 5
}
